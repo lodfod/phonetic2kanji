{
 "cells": [
  {
   "cell_type": "markdown",
   "metadata": {},
   "source": [
    "## Creating a Kanji-to-Hiragana Model "
   ]
  },
  {
   "cell_type": "markdown",
   "metadata": {},
   "source": [
    "### Load ReazonSpeech Dataset"
   ]
  },
  {
   "cell_type": "code",
   "execution_count": 24,
   "metadata": {},
   "outputs": [],
   "source": [
    "from datasets import load_dataset"
   ]
  },
  {
   "cell_type": "code",
   "execution_count": 25,
   "metadata": {},
   "outputs": [
    {
     "name": "stdout",
     "output_type": "stream",
     "text": [
      "number of rows:  5323\n"
     ]
    }
   ],
   "source": [
    "# Load reazonspeech corpus dataset\n",
    "ds = load_dataset(\"reazon-research/reazonspeech\", trust_remote_code=True)\n",
    "print(\"number of rows: \", ds[\"train\"].num_rows)"
   ]
  },
  {
   "cell_type": "code",
   "execution_count": 26,
   "metadata": {},
   "outputs": [
    {
     "name": "stdout",
     "output_type": "stream",
     "text": [
      "row 0: これまたジミーさん\n",
      "row 1: 今も相手にロンバルドのほうに肩口で握られてもすぐさま流れを切る引き込み返しに変えたと。\n",
      "row 2: 僕はタクシーのことに関してはあんまりこう。\n",
      "row 3: ［バーミヤンズオンエア獲得も疑惑浮上］\n",
      "row 4: そしてもう一枚がこちら。\n",
      "row 5: 何？\n",
      "row 6: 積極的にお金を使うべきだと主張する政治家や省庁と支出を抑えたい財務省との間でせめぎ合いが続きます。\n",
      "row 7: 今大会のボキの泳ぎ杉内さんはどう感じてらっしゃいますか？\n",
      "row 8: そして得点を阻止するため相手はボールを発射！\n",
      "row 9: やはりオウミ初の女性役員は夏目さんかな。\n"
     ]
    }
   ],
   "source": [
    "# Print some dataset\n",
    "for i in range(10):\n",
    "    print(f\"row {i}: {ds['train'][i]['transcription']}\")"
   ]
  },
  {
   "cell_type": "markdown",
   "metadata": {},
   "source": [
    "### Kanji-to-Hiragana via pykakasi"
   ]
  },
  {
   "cell_type": "code",
   "execution_count": 27,
   "metadata": {},
   "outputs": [],
   "source": [
    "import pykakasi"
   ]
  },
  {
   "cell_type": "code",
   "execution_count": 28,
   "metadata": {},
   "outputs": [],
   "source": [
    "# Initilize model\n",
    "kks = pykakasi.kakasi()\n",
    "\n",
    "# Load and convert string \n",
    "text = ds['train'][8]['transcription']\n",
    "result = kks.convert(text)"
   ]
  },
  {
   "cell_type": "code",
   "execution_count": 29,
   "metadata": {},
   "outputs": [
    {
     "name": "stdout",
     "output_type": "stream",
     "text": [
      "original text:  そして得点を阻止するため相手はボールを発射！ \n",
      "\n",
      "\n",
      "そして: kana 'ソシテ', hiragana 'そして', romaji: 'soshite'\n",
      "得点: kana 'トクテン', hiragana 'とくてん', romaji: 'tokuten'\n",
      "を: kana 'ヲ', hiragana 'を', romaji: 'wo'\n",
      "阻止: kana 'ソシ', hiragana 'そし', romaji: 'soshi'\n",
      "するため: kana 'スルタメ', hiragana 'するため', romaji: 'surutame'\n",
      "相手: kana 'アイテ', hiragana 'あいて', romaji: 'aite'\n",
      "は: kana 'ハ', hiragana 'は', romaji: 'ha'\n",
      "ボール: kana 'ボール', hiragana 'ぼーる', romaji: 'booru'\n",
      "を: kana 'ヲ', hiragana 'を', romaji: 'wo'\n",
      "発射: kana 'ハッシャ', hiragana 'はっしゃ', romaji: 'hassha'\n",
      "！: kana '！', hiragana '！', romaji: '!'\n",
      "\n",
      "\n",
      "result text:  そしてとくてんをそしするためあいてはぼーるをはっしゃ！\n"
     ]
    }
   ],
   "source": [
    "# Print items\n",
    "print(\"original text: \", text, \"\\n\\n\")\n",
    "for item in result:\n",
    "    print(\"{}: kana '{}', hiragana '{}', romaji: '{}'\".format(item['orig'], item['kana'], item['hira'], item['hepburn']))\n",
    "\n",
    "hiragana_sentence = ''.join(item['hira'] for item in result)\n",
    "print(\"\\n\\nresult text: \", hiragana_sentence)"
   ]
  },
  {
   "cell_type": "markdown",
   "metadata": {},
   "source": [
    "### Utilizing CaboCha for Kanji-to-Phonetic conversion\n",
    "Spent few hours trying to install CaboCha model, but had difficulties downloading packages. CaboCha had little to no support on WSL machine. "
   ]
  },
  {
   "cell_type": "markdown",
   "metadata": {},
   "source": [
    "### Utilizing MeCab for Kanji-to-Phonetic conversion\n"
   ]
  },
  {
   "cell_type": "markdown",
   "metadata": {},
   "source": [
    "Install Dependencies:\n",
    "\n",
    "```bash\n",
    "apt update\n",
    "apt install mecab libmecab-dev mecab-ipadic mecab-ipadic-utf8\n",
    "apt install -y swig\n",
    "pip install mecab-python3\n",
    "\n",
    "apt install -y git curl xz-utils\n",
    "git clone --depth 1 https://github.com/neologd/mecab-ipadic-neologd.git\n",
    "cd mecab-ipadic-neologd\n",
    "pwd\n",
    "./bin/install-mecab-ipadic-neologd -n -p /path/to/custom/directory"
   ]
  },
  {
   "cell_type": "code",
   "execution_count": 30,
   "metadata": {},
   "outputs": [],
   "source": [
    "import MeCab"
   ]
  },
  {
   "cell_type": "code",
   "execution_count": 31,
   "metadata": {},
   "outputs": [
    {
     "name": "stdout",
     "output_type": "stream",
     "text": [
      " -> BOS/EOS\n",
      "ポケモンGO -> 名詞\n",
      " -> BOS/EOS\n"
     ]
    }
   ],
   "source": [
    "# Use the NEologd dictionary\n",
    "mecab = MeCab.Tagger('-r /dev/null -d /mnt/syno128/volume1/ryos17/ryota-sato-internship/venv/lib/python3.10/site-packages/mecab-ipadic-neologd') \n",
    "\n",
    "text = \"ポケモンGO\"\n",
    "mecab.parse(\"\")  # Prevent GC issues\n",
    "node = mecab.parseToNode(text)\n",
    "\n",
    "while node:\n",
    "    word = node.surface  # Get the word\n",
    "    pos = node.feature.split(\",\")[0]  # Get the part of speech\n",
    "    print(f\"{word} -> {pos}\")\n",
    "    node = node.next\n"
   ]
  },
  {
   "cell_type": "code",
   "execution_count": 32,
   "metadata": {},
   "outputs": [],
   "source": [
    "# code from https://qiita.com/shimajiroxyz/items/81452afdedaed767f436\n",
    "import MeCab\n",
    "import jaconv\n",
    "\n",
    "#記号を削除する関数\n",
    "#(以下\n",
    "#http://prpr.hatenablog.jp/entry/2016/11/23/Python%E3%81%A7%E5%85%A8%E8%A7%92%E3%83%BB%E5%8D%8A%E8%A7%92%E8%A8%98%E5%8F%B7%E3%82%92%E3%81%BE%E3%81%A8%E3%82%81%E3%81%A6%E6%B6%88%E3%81%97%E5%8E%BB%E3%82%8B\n",
    "#よりそのまま引用)\n",
    "import unicodedata\n",
    "import string\n",
    "\n",
    "def format_text(text):\n",
    "    text = unicodedata.normalize(\"NFKC\", text)  # 全角記号をざっくり半角へ置換（でも不完全）\n",
    "\n",
    "    # 記号を消し去るための魔法のテーブル作成\n",
    "    table = str.maketrans(\"\", \"\", string.punctuation  + \"「」、。・\")\n",
    "    text = text.translate(table)\n",
    "\n",
    "    return text\n",
    "#(引用ここまで)\n",
    "\n",
    "m = MeCab.Tagger('-r /dev/null -d /mnt/syno128/volume1/ryos17/ryota-sato-internship/venv/lib/python3.10/site-packages/mecab-ipadic-neologd') #形態素解析用objectの宣言\n",
    "\n",
    "def getPronunciation(text):\n",
    "    m_result = m.parse(text).splitlines() #mecabの解析結果の取得\n",
    "    m_result = m_result[:-1] #最後の1行は不要な行なので除く\n",
    "\n",
    "    pro = '' #発音文字列全体を格納する変数\n",
    "    for v in m_result:\n",
    "        if '\\t' not in v: continue\n",
    "        surface = v.split('\\t')[0] #表層形\n",
    "        p = v.split('\\t')[1].split(',')[-1] #発音を取得したいとき\n",
    "        #p = v.split('\\t')[1].split(',')[-2] #ルビを取得したいとき\n",
    "        #発音が取得できていないときsurfaceで代用\n",
    "        if p == '*': p = surface\n",
    "        pro += p\n",
    "    \n",
    "    pro = jaconv.hira2kata(pro) #ひらがなをカタカナに変換\n",
    "    pro = format_text(pro) #余計な記号を削除\n",
    "\n",
    "    return pro"
   ]
  },
  {
   "cell_type": "code",
   "execution_count": 33,
   "metadata": {},
   "outputs": [
    {
     "name": "stdout",
     "output_type": "stream",
     "text": [
      "今日はよく寝ました\n",
      "キョーワヨクネマシタ\n"
     ]
    }
   ],
   "source": [
    "# test code\n",
    "text = '今日はよく寝ました'\n",
    "print(text)\n",
    "print(getPronunciation(text))"
   ]
  },
  {
   "cell_type": "markdown",
   "metadata": {},
   "source": [
    "### Updating ReazonSpeech corpus to include 'hiragana' and 'phonetic' column"
   ]
  },
  {
   "cell_type": "code",
   "execution_count": 34,
   "metadata": {},
   "outputs": [],
   "source": [
    "from tqdm import tqdm"
   ]
  },
  {
   "cell_type": "code",
   "execution_count": 35,
   "metadata": {},
   "outputs": [
    {
     "name": "stderr",
     "output_type": "stream",
     "text": [
      "100%|██████████| 5323/5323 [00:27<00:00, 195.72it/s]\n"
     ]
    }
   ],
   "source": [
    "# Load dataset\n",
    "ds = load_dataset(\"reazon-research/reazonspeech\", trust_remote_code=True)\n",
    "ds_len = ds[\"train\"].num_rows\n",
    "\n",
    "# Initilize Kanji-to-Hiragana model\n",
    "kks = pykakasi.kakasi()\n",
    "\n",
    "# Collect hiragana and phonetic conversions for all rows\n",
    "hiragana_column = []\n",
    "phonetic_column = []\n",
    "for i in tqdm(range(ds_len)): \n",
    "    cur_text = ds['train'][i]['transcription']\n",
    "    # Convert to hiragana\n",
    "    result = kks.convert(cur_text)\n",
    "    cur_hiragana = ''.join(item['hira'] for item in result)\n",
    "    hiragana_column.append(cur_hiragana)\n",
    "    # Convert to phonetic\n",
    "    cur_phonetic = getPronunciation(cur_text)\n",
    "    phonetic_column.append(cur_phonetic)\n",
    "\n",
    "# Add the new 'hiragana' and 'phonetic' column to the dataset\n",
    "ds['train'] = ds['train'].add_column(\"hiragana\", hiragana_column)\n",
    "ds['train'] = ds['train'].add_column(\"phonetic\", phonetic_column)"
   ]
  },
  {
   "cell_type": "code",
   "execution_count": 36,
   "metadata": {},
   "outputs": [
    {
     "name": "stdout",
     "output_type": "stream",
     "text": [
      "row 0: {'name': '000/000734dcb35d6.flac', 'audio': {'path': '/home/ryos17/.cache/huggingface/datasets/downloads/extracted/c95cf990cfc8e23a0a848dba2e22a0d0c08e6667f3dfefff00640d3cf73287da/000/000734dcb35d6.flac', 'array': array([-0.01309204, -0.01068115, -0.006073  , ...,  0.00613403,\n",
      "        0.00558472,  0.00674438]), 'sampling_rate': 16000}, 'transcription': 'これまたジミーさん', 'hiragana': 'これまたじみーさん', 'phonetic': 'コレマタジミーサン'} \n",
      "\n",
      "row 1: {'name': '000/0024ae5c517e7.flac', 'audio': {'path': '/home/ryos17/.cache/huggingface/datasets/downloads/extracted/c95cf990cfc8e23a0a848dba2e22a0d0c08e6667f3dfefff00640d3cf73287da/000/0024ae5c517e7.flac', 'array': array([-0.04589844, -0.0730896 , -0.09643555, ..., -0.00741577,\n",
      "        0.00476074,  0.01593018]), 'sampling_rate': 16000}, 'transcription': '今も相手にロンバルドのほうに肩口で握られてもすぐさま流れを切る引き込み返しに変えたと。', 'hiragana': 'いまもあいてにろんばるどのほうにかたぐちでにぎられてもすぐさまながれをきるひきこみかえしにかえたと。', 'phonetic': 'イマモアイテニロンバルドノホーニカタグチデニギラレテモスグサマナガレヲキルヒキコミガエシニカエタト'} \n",
      "\n",
      "row 2: {'name': '000/002607eb83876.flac', 'audio': {'path': '/home/ryos17/.cache/huggingface/datasets/downloads/extracted/c95cf990cfc8e23a0a848dba2e22a0d0c08e6667f3dfefff00640d3cf73287da/000/002607eb83876.flac', 'array': array([-0.02124023, -0.03240967, -0.03918457, ...,  0.0168457 ,\n",
      "       -0.02859497, -0.05004883]), 'sampling_rate': 16000}, 'transcription': '僕はタクシーのことに関してはあんまりこう。', 'hiragana': 'ぼくはたくしーのことにかんしてはあんまりこう。', 'phonetic': 'ボクワタクシーノコトニカンシテワアンマリコウ'} \n",
      "\n",
      "row 3: {'name': '000/002804d69fae8.flac', 'audio': {'path': '/home/ryos17/.cache/huggingface/datasets/downloads/extracted/c95cf990cfc8e23a0a848dba2e22a0d0c08e6667f3dfefff00640d3cf73287da/000/002804d69fae8.flac', 'array': array([0.05010986, 0.02462769, 0.03771973, ..., 0.00057983, 0.00314331,\n",
      "       0.00650024]), 'sampling_rate': 16000}, 'transcription': '［バーミヤンズオンエア獲得も疑惑浮上］', 'hiragana': '［ばーみやんずおんえあかくとくもぎわくふじょう］', 'phonetic': 'バーミヤンズオンエアカクトクモギワクフジョー'} \n",
      "\n",
      "row 4: {'name': '000/00410d6d45167.flac', 'audio': {'path': '/home/ryos17/.cache/huggingface/datasets/downloads/extracted/c95cf990cfc8e23a0a848dba2e22a0d0c08e6667f3dfefff00640d3cf73287da/000/00410d6d45167.flac', 'array': array([-0.00030518,  0.0043335 ,  0.00784302, ...,  0.04382324,\n",
      "        0.04156494,  0.03775024]), 'sampling_rate': 16000}, 'transcription': 'そしてもう一枚がこちら。', 'hiragana': 'そしてもういちまいがこちら。', 'phonetic': 'ソシテモーイチマイガコチラ'} \n",
      "\n",
      "row 5: {'name': '000/0047558e4b246.flac', 'audio': {'path': '/home/ryos17/.cache/huggingface/datasets/downloads/extracted/c95cf990cfc8e23a0a848dba2e22a0d0c08e6667f3dfefff00640d3cf73287da/000/0047558e4b246.flac', 'array': array([-0.01272583, -0.0184021 , -0.00942993, ...,  0.08694458,\n",
      "        0.07699585,  0.07369995]), 'sampling_rate': 16000}, 'transcription': '何？', 'hiragana': 'なに？', 'phonetic': 'ナニ'} \n",
      "\n",
      "row 6: {'name': '000/0048b7384d276.flac', 'audio': {'path': '/home/ryos17/.cache/huggingface/datasets/downloads/extracted/c95cf990cfc8e23a0a848dba2e22a0d0c08e6667f3dfefff00640d3cf73287da/000/0048b7384d276.flac', 'array': array([-0.05941772, -0.05899048, -0.05633545, ...,  0.00518799,\n",
      "        0.00595093,  0.00311279]), 'sampling_rate': 16000}, 'transcription': '積極的にお金を使うべきだと主張する政治家や省庁と支出を抑えたい財務省との間でせめぎ合いが続きます。', 'hiragana': 'せっきょくてきにおきんをつかうべきだとしゅちょうするせいじかやしょうちょうとししゅつをおさえたいざいむしょうとのかんでせめぎあいがつづきます。', 'phonetic': 'セッキョクテキニオカネヲツカウベキダトシュチョースルセイジカヤショーチョートシシュツヲオサエタイザイムショートノマデセメギゴウイガツズキマス'} \n",
      "\n",
      "row 7: {'name': '000/004e868b88974.flac', 'audio': {'path': '/home/ryos17/.cache/huggingface/datasets/downloads/extracted/c95cf990cfc8e23a0a848dba2e22a0d0c08e6667f3dfefff00640d3cf73287da/000/004e868b88974.flac', 'array': array([ 0.00177002,  0.00125122,  0.00631714, ..., -0.01425171,\n",
      "       -0.02111816, -0.01968384]), 'sampling_rate': 16000}, 'transcription': '今大会のボキの泳ぎ杉内さんはどう感じてらっしゃいますか？', 'hiragana': 'こんたいかいのぼきのおよぎすぎうちさんはどうかんじてらっしゃいますか？', 'phonetic': 'コンタイカイノボキノオヨギスギウチサンワドーカンジテラッシャイマスカ'} \n",
      "\n",
      "row 8: {'name': '000/0064d8788c955.flac', 'audio': {'path': '/home/ryos17/.cache/huggingface/datasets/downloads/extracted/c95cf990cfc8e23a0a848dba2e22a0d0c08e6667f3dfefff00640d3cf73287da/000/0064d8788c955.flac', 'array': array([-0.01361084, -0.01208496, -0.01742554, ...,  0.02871704,\n",
      "        0.03442383,  0.02310181]), 'sampling_rate': 16000}, 'transcription': 'そして得点を阻止するため相手はボールを発射！', 'hiragana': 'そしてとくてんをそしするためあいてはぼーるをはっしゃ！', 'phonetic': 'ソシテトクテンヲソシスルタメアイテワボールヲハッシャ'} \n",
      "\n",
      "row 9: {'name': '000/0066dadba4f25.flac', 'audio': {'path': '/home/ryos17/.cache/huggingface/datasets/downloads/extracted/c95cf990cfc8e23a0a848dba2e22a0d0c08e6667f3dfefff00640d3cf73287da/000/0066dadba4f25.flac', 'array': array([ 0.02804565,  0.02401733,  0.01766968, ..., -0.00115967,\n",
      "       -0.00744629, -0.01043701]), 'sampling_rate': 16000}, 'transcription': 'やはりオウミ初の女性役員は夏目さんかな。', 'hiragana': 'やはりおうみはつのじょせいやくいんはなつめさんかな。', 'phonetic': 'ヤハリオウミハツノジョセイヤクインワナツメサンカナ'} \n",
      "\n"
     ]
    }
   ],
   "source": [
    "# Verify first 10 row\n",
    "for i in range(10):\n",
    "    print(f\"row {i}: {ds['train'][i]} \\n\")"
   ]
  }
 ],
 "metadata": {
  "kernelspec": {
   "display_name": "model-venv",
   "language": "python",
   "name": "python3"
  },
  "language_info": {
   "codemirror_mode": {
    "name": "ipython",
    "version": 3
   },
   "file_extension": ".py",
   "mimetype": "text/x-python",
   "name": "python",
   "nbconvert_exporter": "python",
   "pygments_lexer": "ipython3",
   "version": "3.10.4"
  }
 },
 "nbformat": 4,
 "nbformat_minor": 2
}
